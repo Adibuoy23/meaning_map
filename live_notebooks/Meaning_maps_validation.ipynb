{
 "cells": [
  {
   "cell_type": "code",
   "execution_count": 13,
   "id": "94306849",
   "metadata": {},
   "outputs": [],
   "source": [
    "import os\n",
    "import tkinter\n",
    "from tqdm import tqdm\n",
    "from tkinter import filedialog\n",
    "import pandas as pd\n",
    "import numpy as np\n",
    "import cv2\n",
    "import pickle\n",
    "from scipy.io import loadmat"
   ]
  },
  {
   "cell_type": "code",
   "execution_count": 3,
   "id": "797db423",
   "metadata": {},
   "outputs": [],
   "source": [
    "# Define functions here\n",
    "def search_for_file_path(prompt):\n",
    "\n",
    "    root = tkinter.Tk()\n",
    "    root.withdraw()  # use to hide tkinter window\n",
    "    currdir = os.getcwd()\n",
    "    file_dir = filedialog.askdirectory(\n",
    "        parent=root,\n",
    "        initialdir=currdir,\n",
    "        title=prompt,\n",
    "        mustexist=True,\n",
    "    )\n",
    "\n",
    "    return file_dir\n",
    "\n",
    "\n",
    "def get_file(prompt):\n",
    "\n",
    "    root = tkinter.Tk()\n",
    "    root.withdraw()  # use to hide tkinter window\n",
    "    currdir = os.getcwd()\n",
    "    files = filedialog.askopenfilenames(\n",
    "        parent=root,\n",
    "        initialdir=currdir,\n",
    "        title=prompt,\n",
    "        filetypes=[(\"mat files\", \".mat\")],\n",
    "    )\n",
    "\n",
    "    return files"
   ]
  },
  {
   "cell_type": "code",
   "execution_count": 4,
   "id": "d1d8c1ed",
   "metadata": {},
   "outputs": [],
   "source": [
    "pkl_dir = search_for_file_path(\"Select the directory containing the pkl meaning map files:\")"
   ]
  },
  {
   "cell_type": "code",
   "execution_count": 5,
   "id": "3398af72",
   "metadata": {},
   "outputs": [],
   "source": [
    "mat_dir = search_for_file_path(\"Select the directory containing the meaning map mat files:\")"
   ]
  },
  {
   "cell_type": "code",
   "execution_count": 6,
   "id": "65ac33dd",
   "metadata": {},
   "outputs": [
    {
     "data": {
      "text/plain": [
       "['180_bust.pkl',\n",
       " '180_airport.pkl',\n",
       " '180_child_bedroom.pkl',\n",
       " '180_blender.pkl',\n",
       " '180_computer.pkl',\n",
       " '180_coke_can.pkl',\n",
       " '180_chainsaw.pkl',\n",
       " '180_bowl.pkl',\n",
       " '180_clock.pkl',\n",
       " '180_chair.pkl',\n",
       " '180_blue_river.pkl',\n",
       " '180_candy_store.pkl',\n",
       " '180_basketball_net.pkl',\n",
       " '180_coffeemaker.pkl',\n",
       " '180_boat.pkl',\n",
       " '180_car.pkl',\n",
       " '180_cap.pkl',\n",
       " '180_cracker.pkl',\n",
       " '180_cat.pkl',\n",
       " '180_arcade.pkl',\n",
       " '180_brick_apartment.pkl',\n",
       " '180_briefcase.pkl',\n",
       " '180_dice.pkl',\n",
       " '180_bell.pkl',\n",
       " '180_CD.pkl',\n",
       " '180_calculator.pkl',\n",
       " '180_bongo_drums.pkl',\n",
       " '180_bucket.pkl',\n",
       " '180_dog.pkl',\n",
       " '180_bin.pkl',\n",
       " '180_disco_ball.pkl',\n",
       " '180_broom.pkl',\n",
       " '180_book.pkl']"
      ]
     },
     "execution_count": 6,
     "metadata": {},
     "output_type": "execute_result"
    }
   ],
   "source": [
    "pkl_files = os.listdir(pkl_dir)\n",
    "pkl_files"
   ]
  },
  {
   "cell_type": "code",
   "execution_count": 7,
   "id": "8a0870f6",
   "metadata": {},
   "outputs": [
    {
     "data": {
      "text/plain": [
       "['180_bongo_drums.mat',\n",
       " '180_cap.mat',\n",
       " '180_blue_river.mat',\n",
       " '180_cat.mat',\n",
       " '180_bucket.mat',\n",
       " '180_dog.mat',\n",
       " '180_arcade.mat',\n",
       " '180_bin.mat',\n",
       " '180_child_bedroom.mat',\n",
       " '180_clock.mat',\n",
       " '180_CD.mat',\n",
       " '180_bust.mat',\n",
       " '180_coffeemaker.mat',\n",
       " '180_bell.mat',\n",
       " '180_airport.mat',\n",
       " '180_car.mat',\n",
       " '180_disco_ball.mat',\n",
       " '180_boat.mat',\n",
       " '180_basketball_net.mat',\n",
       " '180_book.mat',\n",
       " '180_chair.mat',\n",
       " '180_chainsaw.mat',\n",
       " '180_brick_apartment.mat',\n",
       " '180_cracker.mat',\n",
       " '180_bowl.mat',\n",
       " '180_calculator.mat',\n",
       " '180_coke_can.mat',\n",
       " '180_candy_store.mat',\n",
       " '180_broom.mat',\n",
       " '180_briefcase.mat',\n",
       " '180_dice.mat',\n",
       " '180_blender.mat',\n",
       " '180_computer.mat']"
      ]
     },
     "execution_count": 7,
     "metadata": {},
     "output_type": "execute_result"
    }
   ],
   "source": [
    "mat_files = os.listdir(mat_dir)\n",
    "mat_files"
   ]
  },
  {
   "cell_type": "code",
   "execution_count": 45,
   "id": "f850d534",
   "metadata": {},
   "outputs": [
    {
     "name": "stderr",
     "output_type": "stream",
     "text": [
      "Validating meaning maps for: 180_book.pkl: 100%|██████████| 33/33 [00:20<00:00,  1.64it/s]           \n"
     ]
    }
   ],
   "source": [
    "files = tqdm(pkl_files)\n",
    "corr_list = []\n",
    "for file in files:\n",
    "    files.set_description(f\"Validating meaning maps for: {file}\")\n",
    "    with open (os.path.join(pkl_dir, file), \"rb\") as f:\n",
    "        pkl_vals = pickle.load(f)\n",
    "        pkl_arr = pkl_vals.ravel()\n",
    "    # Load the mat file\n",
    "    mat_vals = loadmat(os.path.join(mat_dir, file[:-4]+'.mat'))['smooth_meaning']\n",
    "    mat_arr = mat_vals.ravel()\n",
    "    corr = np.corrcoef(pkl_arr, mat_arr)\n",
    "    corr_list.append(corr[0, 1])"
   ]
  },
  {
   "cell_type": "code",
   "execution_count": 46,
   "id": "47e7525f",
   "metadata": {},
   "outputs": [],
   "source": [
    "import matplotlib.pyplot as plt\n",
    "%matplotlib inline"
   ]
  },
  {
   "cell_type": "code",
   "execution_count": 50,
   "id": "cffb1dab",
   "metadata": {},
   "outputs": [
    {
     "data": {
      "image/png": "[encoded data removed]",
      "text/plain": [
       "<Figure size 432x288 with 1 Axes>"
      ]
     },
     "metadata": {
      "needs_background": "light"
     },
     "output_type": "display_data"
    }
   ],
   "source": [
    "ax = plt.subplot(111)\n",
    "  \n",
    "img_num = np.arange(1, len(corr_list)+1)\n",
    "line, = plt.plot(img_num, corr_list, lw = 2)\n",
    "  \n",
    "plt.ylim(-1, 1.2)\n",
    "plt.title(\"RM03_Inv : Meaning map correlation between matlab and python pipelines\")\n",
    "plt.show()"
   ]
  }
 ],
 "metadata": {
  "kernelspec": {
   "display_name": "Python 3",
   "language": "python",
   "name": "python3"
  },
  "language_info": {
   "codemirror_mode": {
    "name": "ipython",
    "version": 3
   },
   "file_extension": ".py",
   "mimetype": "text/x-python",
   "name": "python",
   "nbconvert_exporter": "python",
   "pygments_lexer": "ipython3",
   "version": "3.9.1"
  }
 },
 "nbformat": 4,
 "nbformat_minor": 5
}
