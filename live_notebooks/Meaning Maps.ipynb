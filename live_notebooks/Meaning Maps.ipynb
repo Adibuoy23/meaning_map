{
 "cells": [
  {
   "cell_type": "code",
   "execution_count": 1,
   "id": "painful-writer",
   "metadata": {},
   "outputs": [],
   "source": [
    "import os"
   ]
  },
  {
   "cell_type": "code",
   "execution_count": 2,
   "id": "sized-technical",
   "metadata": {},
   "outputs": [
    {
     "name": "stdout",
     "output_type": "stream",
     "text": [
      "Cloning into 'meaning_map'...\n",
      "remote: Enumerating objects: 162, done.\u001b[K\n",
      "remote: Counting objects: 100% (162/162), done.\u001b[K\n",
      "remote: Compressing objects: 100% (122/122), done.\u001b[K\n",
      "remote: Total 162 (delta 65), reused 132 (delta 38), pack-reused 0\u001b[K\n",
      "Receiving objects: 100% (162/162), 345.10 KiB | 1.40 MiB/s, done.\n",
      "Resolving deltas: 100% (65/65), done.\n"
     ]
    }
   ],
   "source": [
    "!git clone https://github.com/Adibuoy23/meaning_map.git"
   ]
  },
  {
   "cell_type": "code",
   "execution_count": 3,
   "id": "living-commerce",
   "metadata": {},
   "outputs": [],
   "source": [
    "os.chdir(\"meaning_map\")"
   ]
  },
  {
   "cell_type": "code",
   "execution_count": 4,
   "id": "ignored-consumer",
   "metadata": {},
   "outputs": [
    {
     "name": "stdout",
     "output_type": "stream",
     "text": [
      "running install\n",
      "running bdist_egg\n",
      "running egg_info\n",
      "writing src/meaning_map_Adibuoy23.egg-info/PKG-INFO\n",
      "writing dependency_links to src/meaning_map_Adibuoy23.egg-info/dependency_links.txt\n",
      "writing requirements to src/meaning_map_Adibuoy23.egg-info/requires.txt\n",
      "writing top-level names to src/meaning_map_Adibuoy23.egg-info/top_level.txt\n",
      "reading manifest file 'src/meaning_map_Adibuoy23.egg-info/SOURCES.txt'\n",
      "writing manifest file 'src/meaning_map_Adibuoy23.egg-info/SOURCES.txt'\n",
      "installing library code to build/bdist.macosx-10.7-x86_64/egg\n",
      "running install_lib\n",
      "running build_py\n",
      "creating build\n",
      "creating build/lib\n",
      "creating build/lib/meaning_map\n",
      "copying src/meaning_map/HeatMap.py -> build/lib/meaning_map\n",
      "copying src/meaning_map/check_catch_patch_ratings.py -> build/lib/meaning_map\n",
      "copying src/meaning_map/upload_survey_to_qualtrics.py -> build/lib/meaning_map\n",
      "copying src/meaning_map/build_meaning_map.py -> build/lib/meaning_map\n",
      "copying src/meaning_map/patch_cut.py -> build/lib/meaning_map\n",
      "copying src/meaning_map/__init__.py -> build/lib/meaning_map\n",
      "copying src/meaning_map/create_qualtrics_surveys.py -> build/lib/meaning_map\n",
      "copying src/meaning_map/create_scene_patches.py -> build/lib/meaning_map\n",
      "copying src/meaning_map/process_patch_ratings.py -> build/lib/meaning_map\n",
      "copying src/meaning_map/patch_stitch.py -> build/lib/meaning_map\n",
      "creating build/bdist.macosx-10.7-x86_64\n",
      "creating build/bdist.macosx-10.7-x86_64/egg\n",
      "creating build/bdist.macosx-10.7-x86_64/egg/meaning_map\n",
      "copying build/lib/meaning_map/HeatMap.py -> build/bdist.macosx-10.7-x86_64/egg/meaning_map\n",
      "copying build/lib/meaning_map/check_catch_patch_ratings.py -> build/bdist.macosx-10.7-x86_64/egg/meaning_map\n",
      "copying build/lib/meaning_map/upload_survey_to_qualtrics.py -> build/bdist.macosx-10.7-x86_64/egg/meaning_map\n",
      "copying build/lib/meaning_map/build_meaning_map.py -> build/bdist.macosx-10.7-x86_64/egg/meaning_map\n",
      "copying build/lib/meaning_map/patch_cut.py -> build/bdist.macosx-10.7-x86_64/egg/meaning_map\n",
      "copying build/lib/meaning_map/__init__.py -> build/bdist.macosx-10.7-x86_64/egg/meaning_map\n",
      "copying build/lib/meaning_map/create_qualtrics_surveys.py -> build/bdist.macosx-10.7-x86_64/egg/meaning_map\n",
      "copying build/lib/meaning_map/create_scene_patches.py -> build/bdist.macosx-10.7-x86_64/egg/meaning_map\n",
      "copying build/lib/meaning_map/process_patch_ratings.py -> build/bdist.macosx-10.7-x86_64/egg/meaning_map\n",
      "copying build/lib/meaning_map/patch_stitch.py -> build/bdist.macosx-10.7-x86_64/egg/meaning_map\n",
      "byte-compiling build/bdist.macosx-10.7-x86_64/egg/meaning_map/HeatMap.py to HeatMap.cpython-37.pyc\n",
      "byte-compiling build/bdist.macosx-10.7-x86_64/egg/meaning_map/check_catch_patch_ratings.py to check_catch_patch_ratings.cpython-37.pyc\n",
      "byte-compiling build/bdist.macosx-10.7-x86_64/egg/meaning_map/upload_survey_to_qualtrics.py to upload_survey_to_qualtrics.cpython-37.pyc\n",
      "byte-compiling build/bdist.macosx-10.7-x86_64/egg/meaning_map/build_meaning_map.py to build_meaning_map.cpython-37.pyc\n",
      "byte-compiling build/bdist.macosx-10.7-x86_64/egg/meaning_map/patch_cut.py to patch_cut.cpython-37.pyc\n",
      "byte-compiling build/bdist.macosx-10.7-x86_64/egg/meaning_map/__init__.py to __init__.cpython-37.pyc\n",
      "byte-compiling build/bdist.macosx-10.7-x86_64/egg/meaning_map/create_qualtrics_surveys.py to create_qualtrics_surveys.cpython-37.pyc\n",
      "byte-compiling build/bdist.macosx-10.7-x86_64/egg/meaning_map/create_scene_patches.py to create_scene_patches.cpython-37.pyc\n",
      "byte-compiling build/bdist.macosx-10.7-x86_64/egg/meaning_map/process_patch_ratings.py to process_patch_ratings.cpython-37.pyc\n",
      "byte-compiling build/bdist.macosx-10.7-x86_64/egg/meaning_map/patch_stitch.py to patch_stitch.cpython-37.pyc\n",
      "creating build/bdist.macosx-10.7-x86_64/egg/EGG-INFO\n",
      "copying src/meaning_map_Adibuoy23.egg-info/PKG-INFO -> build/bdist.macosx-10.7-x86_64/egg/EGG-INFO\n",
      "copying src/meaning_map_Adibuoy23.egg-info/SOURCES.txt -> build/bdist.macosx-10.7-x86_64/egg/EGG-INFO\n",
      "copying src/meaning_map_Adibuoy23.egg-info/dependency_links.txt -> build/bdist.macosx-10.7-x86_64/egg/EGG-INFO\n",
      "copying src/meaning_map_Adibuoy23.egg-info/requires.txt -> build/bdist.macosx-10.7-x86_64/egg/EGG-INFO\n",
      "copying src/meaning_map_Adibuoy23.egg-info/top_level.txt -> build/bdist.macosx-10.7-x86_64/egg/EGG-INFO\n",
      "zip_safe flag not set; analyzing archive contents...\n",
      "creating 'dist/meaning_map_Adibuoy23-0.0.1-py3.7.egg' and adding 'build/bdist.macosx-10.7-x86_64/egg' to it\n",
      "removing 'build/bdist.macosx-10.7-x86_64/egg' (and everything under it)\n",
      "Processing meaning_map_Adibuoy23-0.0.1-py3.7.egg\n",
      "Removing /Users/supadhy6/miniconda3/lib/python3.7/site-packages/meaning_map_Adibuoy23-0.0.1-py3.7.egg\n",
      "Copying meaning_map_Adibuoy23-0.0.1-py3.7.egg to /Users/supadhy6/miniconda3/lib/python3.7/site-packages\n",
      "meaning-map-Adibuoy23 0.0.1 is already the active version in easy-install.pth\n",
      "\n",
      "Installed /Users/supadhy6/miniconda3/lib/python3.7/site-packages/meaning_map_Adibuoy23-0.0.1-py3.7.egg\n",
      "Processing dependencies for meaning-map-Adibuoy23==0.0.1\n",
      "Searching for Pillow==8.3.2\n",
      "Best match: Pillow 8.3.2\n",
      "Processing Pillow-8.3.2-py3.7-macosx-10.7-x86_64.egg\n",
      "Pillow 8.3.2 is already the active version in easy-install.pth\n",
      "\n",
      "Using /Users/supadhy6/miniconda3/lib/python3.7/site-packages/Pillow-8.3.2-py3.7-macosx-10.7-x86_64.egg\n",
      "Searching for natsort==7.0.1\n",
      "Best match: natsort 7.0.1\n",
      "Adding natsort 7.0.1 to easy-install.pth file\n",
      "Installing natsort script to /Users/supadhy6/miniconda3/bin\n",
      "\n",
      "Using /Users/supadhy6/miniconda3/lib/python3.7/site-packages\n",
      "Searching for requests==2.26.0\n",
      "Best match: requests 2.26.0\n",
      "Adding requests 2.26.0 to easy-install.pth file\n",
      "\n",
      "Using /Users/supadhy6/miniconda3/lib/python3.7/site-packages\n",
      "Searching for matplotlib==3.0.2\n",
      "Best match: matplotlib 3.0.2\n",
      "Adding matplotlib 3.0.2 to easy-install.pth file\n",
      "\n",
      "Using /Users/supadhy6/miniconda3/lib/python3.7/site-packages\n",
      "Searching for tqdm==4.56.0\n",
      "Best match: tqdm 4.56.0\n",
      "Adding tqdm 4.56.0 to easy-install.pth file\n",
      "Installing tqdm script to /Users/supadhy6/miniconda3/bin\n",
      "\n",
      "Using /Users/supadhy6/miniconda3/lib/python3.7/site-packages\n",
      "Searching for pandas==0.25.3\n",
      "Best match: pandas 0.25.3\n",
      "Adding pandas 0.25.3 to easy-install.pth file\n",
      "\n",
      "Using /Users/supadhy6/miniconda3/lib/python3.7/site-packages\n",
      "Searching for tk==0.1.0\n",
      "Best match: tk 0.1.0\n",
      "Processing tk-0.1.0-py3.7.egg\n",
      "tk 0.1.0 is already the active version in easy-install.pth\n",
      "\n",
      "Using /Users/supadhy6/miniconda3/lib/python3.7/site-packages/tk-0.1.0-py3.7.egg\n",
      "Searching for scipy==1.4.1\n",
      "Best match: scipy 1.4.1\n",
      "Adding scipy 1.4.1 to easy-install.pth file\n",
      "\n",
      "Using /Users/supadhy6/miniconda3/lib/python3.7/site-packages\n",
      "Searching for numpy==1.15.4\n",
      "Best match: numpy 1.15.4\n",
      "Adding numpy 1.15.4 to easy-install.pth file\n",
      "\n",
      "Using /Users/supadhy6/miniconda3/lib/python3.7/site-packages\n",
      "Searching for opencv-python==4.5.3.56\n",
      "Best match: opencv-python 4.5.3.56\n",
      "Processing opencv_python-4.5.3.56-py3.7-macosx-10.7-x86_64.egg\n",
      "opencv-python 4.5.3.56 is already the active version in easy-install.pth\n",
      "\n",
      "Using /Users/supadhy6/miniconda3/lib/python3.7/site-packages/opencv_python-4.5.3.56-py3.7-macosx-10.7-x86_64.egg\n",
      "Searching for urllib3==1.23\n",
      "Best match: urllib3 1.23\n",
      "Adding urllib3 1.23 to easy-install.pth file\n",
      "\n",
      "Using /Users/supadhy6/miniconda3/lib/python3.7/site-packages\n",
      "Searching for certifi==2020.12.5\n",
      "Best match: certifi 2020.12.5\n",
      "Adding certifi 2020.12.5 to easy-install.pth file\n",
      "\n",
      "Using /Users/supadhy6/miniconda3/lib/python3.7/site-packages\n",
      "Searching for charset-normalizer==2.0.4\n",
      "Best match: charset-normalizer 2.0.4\n",
      "Adding charset-normalizer 2.0.4 to easy-install.pth file\n",
      "Installing normalizer script to /Users/supadhy6/miniconda3/bin\n",
      "\n",
      "Using /Users/supadhy6/miniconda3/lib/python3.7/site-packages\n",
      "Searching for idna==2.7\n",
      "Best match: idna 2.7\n",
      "Adding idna 2.7 to easy-install.pth file\n",
      "\n",
      "Using /Users/supadhy6/miniconda3/lib/python3.7/site-packages\n",
      "Searching for pyparsing==2.4.7\n",
      "Best match: pyparsing 2.4.7\n",
      "Adding pyparsing 2.4.7 to easy-install.pth file\n",
      "\n",
      "Using /Users/supadhy6/miniconda3/lib/python3.7/site-packages\n",
      "Searching for kiwisolver==1.0.1\n",
      "Best match: kiwisolver 1.0.1\n",
      "Adding kiwisolver 1.0.1 to easy-install.pth file\n",
      "\n",
      "Using /Users/supadhy6/miniconda3/lib/python3.7/site-packages\n",
      "Searching for python-dateutil==2.7.5\n",
      "Best match: python-dateutil 2.7.5\n",
      "Adding python-dateutil 2.7.5 to easy-install.pth file\n",
      "\n",
      "Using /Users/supadhy6/miniconda3/lib/python3.7/site-packages\n",
      "Searching for cycler==0.10.0\n",
      "Best match: cycler 0.10.0\n",
      "Adding cycler 0.10.0 to easy-install.pth file\n",
      "\n",
      "Using /Users/supadhy6/miniconda3/lib/python3.7/site-packages\n",
      "Searching for pytz==2020.5\n",
      "Best match: pytz 2020.5\n",
      "Adding pytz 2020.5 to easy-install.pth file\n",
      "\n",
      "Using /Users/supadhy6/miniconda3/lib/python3.7/site-packages\n",
      "Searching for setuptools==40.2.0\n",
      "Best match: setuptools 40.2.0\n",
      "Adding setuptools 40.2.0 to easy-install.pth file\n",
      "Installing easy_install script to /Users/supadhy6/miniconda3/bin\n",
      "\n",
      "Using /Users/supadhy6/miniconda3/lib/python3.7/site-packages\n",
      "Searching for six==1.11.0\n",
      "Best match: six 1.11.0\n",
      "Adding six 1.11.0 to easy-install.pth file\n",
      "\n",
      "Using /Users/supadhy6/miniconda3/lib/python3.7/site-packages\n",
      "Finished processing dependencies for meaning-map-Adibuoy23==0.0.1\n"
     ]
    }
   ],
   "source": [
    "!python3 setup.py install"
   ]
  },
  {
   "cell_type": "markdown",
   "id": "revolutionary-watts",
   "metadata": {},
   "source": [
    "# Import meaning map library"
   ]
  },
  {
   "cell_type": "code",
   "execution_count": 1,
   "id": "focused-breakdown",
   "metadata": {},
   "outputs": [],
   "source": [
    "#os.chdir('../')\n",
    "import meaning_map as mm"
   ]
  },
  {
   "cell_type": "code",
   "execution_count": 2,
   "id": "synthetic-lounge",
   "metadata": {},
   "outputs": [
    {
     "name": "stdout",
     "output_type": "stream",
     "text": [
      "Help on package meaning_map:\n",
      "\n",
      "NAME\n",
      "    meaning_map\n",
      "\n",
      "PACKAGE CONTENTS\n",
      "    HeatMap\n",
      "    build_meaning_map\n",
      "    check_catch_patch_ratings\n",
      "    create_qualtrics_surveys\n",
      "    create_scene_patches\n",
      "    patch_cut\n",
      "    patch_stitch\n",
      "    process_patch_ratings\n",
      "    upload_survey_to_qualtrics\n",
      "\n",
      "FUNCTIONS\n",
      "    hypot(x, y, /)\n",
      "        Return the Euclidean distance, sqrt(x*x + y*y).\n",
      "\n",
      "DATA\n",
      "    __bibtex__ = '\\n@article{henderson2017meaning,\\n  title={Meaning...={2...\n",
      "    absolute_import = _Feature((2, 5, 0, 'alpha', 1), (3, 0, 0, 'alpha', 0...\n",
      "    apiToken = 'nUZl2yNaafGgtPZCKI8YCU4joNJPlanHWULcks78'\n",
      "    division = _Feature((2, 2, 0, 'alpha', 2), (3, 0, 0, 'alpha', 0), 8192...\n",
      "    ns = _NSEnum(FLOAT=1, SIGNED=2, NOEXP=4, PATH=8, LOCA...512, CAPITALFI...\n",
      "    print_function = _Feature((2, 6, 0, 'alpha', 2), (3, 0, 0, 'alpha', 0)...\n",
      "\n",
      "VERSION\n",
      "    0.1.0\n",
      "\n",
      "FILE\n",
      "    /Users/supadhy6/miniconda3/lib/python3.7/site-packages/meaning_map_Adibuoy23-0.0.1-py3.7.egg/meaning_map/__init__.py\n",
      "\n",
      "\n"
     ]
    }
   ],
   "source": [
    "help(mm)"
   ]
  },
  {
   "cell_type": "markdown",
   "id": "internal-pledge",
   "metadata": {},
   "source": [
    "## Pipeline for meaning maps\n",
    "* Creating scene patches\n",
    "* Creating qualtrics surveys - these are experiments requiring participants to rate how meaningful each patch is\n",
    "* Uploading surveys to qualtrics\n",
    "* Check patch ratings - this module checks if the data is good quality. It should be run once we have gathered all the data from qualtrics.\n",
    "* Process patch ratings - this module combines all the ratings for the patches and makes an array of the dimensions of the image size\n",
    "* build meaning maps - this module takes all such generated ratings and builds a meaning map"
   ]
  },
  {
   "cell_type": "markdown",
   "id": "variable-edward",
   "metadata": {},
   "source": [
    "## Creating scene patches\n",
    "- Upon running the next cell, you will be asked for the following:\n",
    "    * Directory containing the scene images\n",
    "    * Directory where you want to save the generated patches\n",
    "    * If you want to generate context dependent patches\n",
    "\n",
    "\n",
    "- A GUI will show up in order to help you choose the directory for each of the queries.\n",
    "    * Be careful about running this notebook on google colab, since colab doesn't provide GUI support\n",
    "    * You might have to tweak the code a little bit in order to make colab compatible\n",
    " \n",
    "- A folder named qualtrics will appear in the location you chose to save the generated patches\n",
    "    * The qualtrics folder will contain the following sub-folders:\n",
    "        * [Save Path]()\n",
    "             * [qualtrics]()\n",
    "               * [patch_stimuli]()\n",
    "                   * [catch]()\n",
    "                       * [default]() # Default catch patches with varying color contrast\n",
    "                       * [custom]() # Custom catch patches picked from real image scenes\n",
    "                   * [coarse]()\n",
    "                       * [...]() # Patches (with / without context)\n",
    "                   * [fine]()\n",
    "                       * [...]() # Patches (with / without context)\n",
    "               * [patch_template]()  # This template can be helpful to visually cross check the patches\n",
    "                   * [coarse.png]()\n",
    "                   * [fine.png]()"
   ]
  },
  {
   "cell_type": "code",
   "execution_count": 3,
   "id": "equipped-miller",
   "metadata": {},
   "outputs": [
    {
     "name": "stdout",
     "output_type": "stream",
     "text": [
      "Please select the directory containing scene images\n",
      "You have chosen: /Volumes/Share/members/azlu/Projects/rm03_InvMM/data/set1_scenes\n",
      "\n",
      "\n",
      "Please select the directory to save the generated patches\n",
      "You have chosen: /Volumes/My Passport 1/VisCogLab/RM03_Inverted/meaning_map_data\n",
      "\n",
      "\n",
      "Generate patches with context?\n"
     ]
    },
    {
     "name": "stderr",
     "output_type": "stream",
     "text": [
      "\r",
      "Image:   0%|          | 0/33 [00:00<?, ?it/s]"
     ]
    },
    {
     "name": "stdout",
     "output_type": "stream",
     "text": [
      "Scale: fine\n"
     ]
    },
    {
     "name": "stderr",
     "output_type": "stream",
     "text": [
      "Image: 100%|██████████| 33/33 [00:17<00:00,  1.91it/s]\n",
      "Image:   0%|          | 0/33 [00:00<?, ?it/s]"
     ]
    },
    {
     "name": "stdout",
     "output_type": "stream",
     "text": [
      "Scale: coarse\n"
     ]
    },
    {
     "name": "stderr",
     "output_type": "stream",
     "text": [
      "Image: 100%|██████████| 33/33 [00:14<00:00,  2.34it/s]\n"
     ]
    }
   ],
   "source": [
    "mm.create_scene_patches()"
   ]
  },
  {
   "cell_type": "markdown",
   "id": "devoted-florist",
   "metadata": {},
   "source": [
    "## Creating Qualtrics surveys\n",
    "- Once you are done with patch creation, you will need to create surveys for qualtrics\n",
    "    * Each survey job is a file comprising of about 30 (approx.) randomly sampled patches for participants to rate\n",
    "    * Depdening on the total number of patches, many survey jobs will be generated.\n",
    "\n",
    "- Make sure to have the instructions.txt file for the surveys ready\n",
    "\n",
    "- Running the cell below should create a directory named survey_jobs. If you chose to save the surveys in the qualtrics folder, the overall tree should look like this:\n",
    "    * [Save Path]()\n",
    "     * [qualtrics]()\n",
    "       * [patch_stimuli]()\n",
    "           * [catch]()\n",
    "               * [default]() # Default catch patches with varying color contrast\n",
    "               * [custom]() # Custom catch patches picked from real image scenes\n",
    "           * [coarse]()\n",
    "               * [...]() # Patches (with / without context)\n",
    "           * [fine]()\n",
    "               * [...]() # Patches (with / without context)\n",
    "       * [patch_template]()  # This template can be helpful to visually cross check the patches\n",
    "           * [coarse.png]()\n",
    "           * [fine.png]()\n",
    "       * [survey_jobs]()\n",
    "           * [coarse]() # surveys corresponding to the coarse condition\n",
    "           * [fine]() # surveys corresponding to the fine condition\n",
    "           * [instruction_template]() # the instructions.txt for the survey"
   ]
  },
  {
   "cell_type": "code",
   "execution_count": 4,
   "id": "behavioral-manual",
   "metadata": {},
   "outputs": [
    {
     "name": "stdout",
     "output_type": "stream",
     "text": [
      "Please select the qualtrics folder containing patch_stimuli\n",
      "\n",
      "You selected: /Volumes/My Passport 1/VisCogLab/RM03_Inverted/meaning_map_data/qualtrics\n",
      "Scene context enabled?\n",
      "\n",
      "\n",
      "\n",
      "Enter the url where the image patches are hosted:\n",
      "\n",
      "\n",
      "Please select the 'instructions.txt' file for the survey:\n"
     ]
    },
    {
     "name": "stderr",
     "output_type": "stream",
     "text": [
      "Patch survey generation at scale:: 100%|██████████| 2/2 [00:00<00:00,  7.35it/s]\n"
     ]
    }
   ],
   "source": [
    "mm.create_qualtrics_surveys()"
   ]
  },
  {
   "cell_type": "markdown",
   "id": "representative-netscape",
   "metadata": {},
   "source": [
    "## Uploading Qualtrics surveys\n",
    "- Once you are done with creating the qualtrics surveys, you can upload them to qualtrics API\n",
    "    * In order to upload, you will need to require a valid Qualtrics account\n",
    "    * This code uses the qualtrics services provided by University of California, Davis. Feel free to change the qualtrics information by editing the upload_survey_to_qualtrics.py\n",
    "    * Additionally, you would also require to provide a Qualtrics API token."
   ]
  },
  {
   "cell_type": "code",
   "execution_count": 5,
   "id": "general-deposit",
   "metadata": {},
   "outputs": [
    {
     "name": "stdout",
     "output_type": "stream",
     "text": [
      "Enter the project name \n",
      "\n",
      "Enter the qualtrics API token \n",
      "\n",
      "Select the qualtrics folder \n",
      "\n"
     ]
    },
    {
     "ename": "KeyboardInterrupt",
     "evalue": "",
     "output_type": "error",
     "traceback": [
      "\u001b[0;31m---------------------------------------------------------------------------\u001b[0m",
      "\u001b[0;31mTypeError\u001b[0m                                 Traceback (most recent call last)",
      "\u001b[0;32m~/miniconda3/lib/python3.7/site-packages/urllib3/connectionpool.py\u001b[0m in \u001b[0;36m_make_request\u001b[0;34m(self, conn, method, url, timeout, chunked, **httplib_request_kw)\u001b[0m\n\u001b[1;32m    376\u001b[0m             \u001b[0;32mtry\u001b[0m\u001b[0;34m:\u001b[0m  \u001b[0;31m# Python 2.7, use buffering of HTTP responses\u001b[0m\u001b[0;34m\u001b[0m\u001b[0;34m\u001b[0m\u001b[0m\n\u001b[0;32m--> 377\u001b[0;31m                 \u001b[0mhttplib_response\u001b[0m \u001b[0;34m=\u001b[0m \u001b[0mconn\u001b[0m\u001b[0;34m.\u001b[0m\u001b[0mgetresponse\u001b[0m\u001b[0;34m(\u001b[0m\u001b[0mbuffering\u001b[0m\u001b[0;34m=\u001b[0m\u001b[0;32mTrue\u001b[0m\u001b[0;34m)\u001b[0m\u001b[0;34m\u001b[0m\u001b[0;34m\u001b[0m\u001b[0m\n\u001b[0m\u001b[1;32m    378\u001b[0m             \u001b[0;32mexcept\u001b[0m \u001b[0mTypeError\u001b[0m\u001b[0;34m:\u001b[0m  \u001b[0;31m# Python 2.6 and older, Python 3\u001b[0m\u001b[0;34m\u001b[0m\u001b[0;34m\u001b[0m\u001b[0m\n",
      "\u001b[0;31mTypeError\u001b[0m: getresponse() got an unexpected keyword argument 'buffering'",
      "\nDuring handling of the above exception, another exception occurred:\n",
      "\u001b[0;31mKeyboardInterrupt\u001b[0m                         Traceback (most recent call last)",
      "\u001b[0;32m<ipython-input-5-b7536440c30b>\u001b[0m in \u001b[0;36m<module>\u001b[0;34m\u001b[0m\n\u001b[0;32m----> 1\u001b[0;31m \u001b[0mmm\u001b[0m\u001b[0;34m.\u001b[0m\u001b[0mupload_survey_to_qualtrics\u001b[0m\u001b[0;34m(\u001b[0m\u001b[0;34m)\u001b[0m\u001b[0;34m\u001b[0m\u001b[0;34m\u001b[0m\u001b[0m\n\u001b[0m",
      "\u001b[0;32m~/miniconda3/lib/python3.7/site-packages/meaning_map_Adibuoy23-0.0.1-py3.7.egg/meaning_map/upload_survey_to_qualtrics.py\u001b[0m in \u001b[0;36mupload_survey_to_qualtrics\u001b[0;34m()\u001b[0m\n\u001b[1;32m    191\u001b[0m \u001b[0;34m\u001b[0m\u001b[0m\n\u001b[1;32m    192\u001b[0m         \u001b[0;31m# -- Call API to import survey\u001b[0m\u001b[0;34m\u001b[0m\u001b[0;34m\u001b[0m\u001b[0;34m\u001b[0m\u001b[0m\n\u001b[0;32m--> 193\u001b[0;31m         \u001b[0mresponse\u001b[0m \u001b[0;34m=\u001b[0m \u001b[0mimport_survey\u001b[0m\u001b[0;34m(\u001b[0m\u001b[0mx\u001b[0m\u001b[0;34m,\u001b[0m \u001b[0msurvey_file\u001b[0m\u001b[0;34m,\u001b[0m \u001b[0mname\u001b[0m\u001b[0;34m,\u001b[0m \u001b[0mapiToken\u001b[0m\u001b[0;34m)\u001b[0m\u001b[0;34m\u001b[0m\u001b[0;34m\u001b[0m\u001b[0m\n\u001b[0m\u001b[1;32m    194\u001b[0m \u001b[0;34m\u001b[0m\u001b[0m\n\u001b[1;32m    195\u001b[0m         \u001b[0;31m# -- Extract survey id from response.text\u001b[0m\u001b[0;34m\u001b[0m\u001b[0;34m\u001b[0m\u001b[0;34m\u001b[0m\u001b[0m\n",
      "\u001b[0;32m~/miniconda3/lib/python3.7/site-packages/meaning_map_Adibuoy23-0.0.1-py3.7.egg/meaning_map/upload_survey_to_qualtrics.py\u001b[0m in \u001b[0;36mimport_survey\u001b[0;34m(survey, survey_file, name, apiToken)\u001b[0m\n\u001b[1;32m     91\u001b[0m     \u001b[0mdata\u001b[0m \u001b[0;34m=\u001b[0m \u001b[0;34m{\u001b[0m\u001b[0;34m\"name\"\u001b[0m\u001b[0;34m:\u001b[0m \u001b[0mname\u001b[0m\u001b[0;34m}\u001b[0m\u001b[0;34m\u001b[0m\u001b[0;34m\u001b[0m\u001b[0m\n\u001b[1;32m     92\u001b[0m     \u001b[0;31m# Make response and print output\u001b[0m\u001b[0;34m\u001b[0m\u001b[0;34m\u001b[0m\u001b[0;34m\u001b[0m\u001b[0m\n\u001b[0;32m---> 93\u001b[0;31m     \u001b[0mresponse\u001b[0m \u001b[0;34m=\u001b[0m \u001b[0mrequests\u001b[0m\u001b[0;34m.\u001b[0m\u001b[0mpost\u001b[0m\u001b[0;34m(\u001b[0m\u001b[0mbaseUrl\u001b[0m\u001b[0;34m,\u001b[0m \u001b[0mfiles\u001b[0m\u001b[0;34m=\u001b[0m\u001b[0mfiles\u001b[0m\u001b[0;34m,\u001b[0m \u001b[0mdata\u001b[0m\u001b[0;34m=\u001b[0m\u001b[0mdata\u001b[0m\u001b[0;34m,\u001b[0m \u001b[0mheaders\u001b[0m\u001b[0;34m=\u001b[0m\u001b[0mheaders\u001b[0m\u001b[0;34m)\u001b[0m\u001b[0;34m\u001b[0m\u001b[0;34m\u001b[0m\u001b[0m\n\u001b[0m\u001b[1;32m     94\u001b[0m     \u001b[0;32mreturn\u001b[0m \u001b[0mresponse\u001b[0m\u001b[0;34m\u001b[0m\u001b[0;34m\u001b[0m\u001b[0m\n\u001b[1;32m     95\u001b[0m \u001b[0;34m\u001b[0m\u001b[0m\n",
      "\u001b[0;32m~/miniconda3/lib/python3.7/site-packages/requests/api.py\u001b[0m in \u001b[0;36mpost\u001b[0;34m(url, data, json, **kwargs)\u001b[0m\n\u001b[1;32m    115\u001b[0m     \"\"\"\n\u001b[1;32m    116\u001b[0m \u001b[0;34m\u001b[0m\u001b[0m\n\u001b[0;32m--> 117\u001b[0;31m     \u001b[0;32mreturn\u001b[0m \u001b[0mrequest\u001b[0m\u001b[0;34m(\u001b[0m\u001b[0;34m'post'\u001b[0m\u001b[0;34m,\u001b[0m \u001b[0murl\u001b[0m\u001b[0;34m,\u001b[0m \u001b[0mdata\u001b[0m\u001b[0;34m=\u001b[0m\u001b[0mdata\u001b[0m\u001b[0;34m,\u001b[0m \u001b[0mjson\u001b[0m\u001b[0;34m=\u001b[0m\u001b[0mjson\u001b[0m\u001b[0;34m,\u001b[0m \u001b[0;34m**\u001b[0m\u001b[0mkwargs\u001b[0m\u001b[0;34m)\u001b[0m\u001b[0;34m\u001b[0m\u001b[0;34m\u001b[0m\u001b[0m\n\u001b[0m\u001b[1;32m    118\u001b[0m \u001b[0;34m\u001b[0m\u001b[0m\n\u001b[1;32m    119\u001b[0m \u001b[0;34m\u001b[0m\u001b[0m\n",
      "\u001b[0;32m~/miniconda3/lib/python3.7/site-packages/requests/api.py\u001b[0m in \u001b[0;36mrequest\u001b[0;34m(method, url, **kwargs)\u001b[0m\n\u001b[1;32m     59\u001b[0m     \u001b[0;31m# cases, and look like a memory leak in others.\u001b[0m\u001b[0;34m\u001b[0m\u001b[0;34m\u001b[0m\u001b[0;34m\u001b[0m\u001b[0m\n\u001b[1;32m     60\u001b[0m     \u001b[0;32mwith\u001b[0m \u001b[0msessions\u001b[0m\u001b[0;34m.\u001b[0m\u001b[0mSession\u001b[0m\u001b[0;34m(\u001b[0m\u001b[0;34m)\u001b[0m \u001b[0;32mas\u001b[0m \u001b[0msession\u001b[0m\u001b[0;34m:\u001b[0m\u001b[0;34m\u001b[0m\u001b[0;34m\u001b[0m\u001b[0m\n\u001b[0;32m---> 61\u001b[0;31m         \u001b[0;32mreturn\u001b[0m \u001b[0msession\u001b[0m\u001b[0;34m.\u001b[0m\u001b[0mrequest\u001b[0m\u001b[0;34m(\u001b[0m\u001b[0mmethod\u001b[0m\u001b[0;34m=\u001b[0m\u001b[0mmethod\u001b[0m\u001b[0;34m,\u001b[0m \u001b[0murl\u001b[0m\u001b[0;34m=\u001b[0m\u001b[0murl\u001b[0m\u001b[0;34m,\u001b[0m \u001b[0;34m**\u001b[0m\u001b[0mkwargs\u001b[0m\u001b[0;34m)\u001b[0m\u001b[0;34m\u001b[0m\u001b[0;34m\u001b[0m\u001b[0m\n\u001b[0m\u001b[1;32m     62\u001b[0m \u001b[0;34m\u001b[0m\u001b[0m\n\u001b[1;32m     63\u001b[0m \u001b[0;34m\u001b[0m\u001b[0m\n",
      "\u001b[0;32m~/miniconda3/lib/python3.7/site-packages/requests/sessions.py\u001b[0m in \u001b[0;36mrequest\u001b[0;34m(self, method, url, params, data, headers, cookies, files, auth, timeout, allow_redirects, proxies, hooks, stream, verify, cert, json)\u001b[0m\n\u001b[1;32m    540\u001b[0m         }\n\u001b[1;32m    541\u001b[0m         \u001b[0msend_kwargs\u001b[0m\u001b[0;34m.\u001b[0m\u001b[0mupdate\u001b[0m\u001b[0;34m(\u001b[0m\u001b[0msettings\u001b[0m\u001b[0;34m)\u001b[0m\u001b[0;34m\u001b[0m\u001b[0;34m\u001b[0m\u001b[0m\n\u001b[0;32m--> 542\u001b[0;31m         \u001b[0mresp\u001b[0m \u001b[0;34m=\u001b[0m \u001b[0mself\u001b[0m\u001b[0;34m.\u001b[0m\u001b[0msend\u001b[0m\u001b[0;34m(\u001b[0m\u001b[0mprep\u001b[0m\u001b[0;34m,\u001b[0m \u001b[0;34m**\u001b[0m\u001b[0msend_kwargs\u001b[0m\u001b[0;34m)\u001b[0m\u001b[0;34m\u001b[0m\u001b[0;34m\u001b[0m\u001b[0m\n\u001b[0m\u001b[1;32m    543\u001b[0m \u001b[0;34m\u001b[0m\u001b[0m\n\u001b[1;32m    544\u001b[0m         \u001b[0;32mreturn\u001b[0m \u001b[0mresp\u001b[0m\u001b[0;34m\u001b[0m\u001b[0;34m\u001b[0m\u001b[0m\n",
      "\u001b[0;32m~/miniconda3/lib/python3.7/site-packages/requests/sessions.py\u001b[0m in \u001b[0;36msend\u001b[0;34m(self, request, **kwargs)\u001b[0m\n\u001b[1;32m    653\u001b[0m \u001b[0;34m\u001b[0m\u001b[0m\n\u001b[1;32m    654\u001b[0m         \u001b[0;31m# Send the request\u001b[0m\u001b[0;34m\u001b[0m\u001b[0;34m\u001b[0m\u001b[0;34m\u001b[0m\u001b[0m\n\u001b[0;32m--> 655\u001b[0;31m         \u001b[0mr\u001b[0m \u001b[0;34m=\u001b[0m \u001b[0madapter\u001b[0m\u001b[0;34m.\u001b[0m\u001b[0msend\u001b[0m\u001b[0;34m(\u001b[0m\u001b[0mrequest\u001b[0m\u001b[0;34m,\u001b[0m \u001b[0;34m**\u001b[0m\u001b[0mkwargs\u001b[0m\u001b[0;34m)\u001b[0m\u001b[0;34m\u001b[0m\u001b[0;34m\u001b[0m\u001b[0m\n\u001b[0m\u001b[1;32m    656\u001b[0m \u001b[0;34m\u001b[0m\u001b[0m\n\u001b[1;32m    657\u001b[0m         \u001b[0;31m# Total elapsed time of the request (approximately)\u001b[0m\u001b[0;34m\u001b[0m\u001b[0;34m\u001b[0m\u001b[0;34m\u001b[0m\u001b[0m\n",
      "\u001b[0;32m~/miniconda3/lib/python3.7/site-packages/requests/adapters.py\u001b[0m in \u001b[0;36msend\u001b[0;34m(self, request, stream, timeout, verify, cert, proxies)\u001b[0m\n\u001b[1;32m    447\u001b[0m                     \u001b[0mdecode_content\u001b[0m\u001b[0;34m=\u001b[0m\u001b[0;32mFalse\u001b[0m\u001b[0;34m,\u001b[0m\u001b[0;34m\u001b[0m\u001b[0;34m\u001b[0m\u001b[0m\n\u001b[1;32m    448\u001b[0m                     \u001b[0mretries\u001b[0m\u001b[0;34m=\u001b[0m\u001b[0mself\u001b[0m\u001b[0;34m.\u001b[0m\u001b[0mmax_retries\u001b[0m\u001b[0;34m,\u001b[0m\u001b[0;34m\u001b[0m\u001b[0;34m\u001b[0m\u001b[0m\n\u001b[0;32m--> 449\u001b[0;31m                     \u001b[0mtimeout\u001b[0m\u001b[0;34m=\u001b[0m\u001b[0mtimeout\u001b[0m\u001b[0;34m\u001b[0m\u001b[0;34m\u001b[0m\u001b[0m\n\u001b[0m\u001b[1;32m    450\u001b[0m                 )\n\u001b[1;32m    451\u001b[0m \u001b[0;34m\u001b[0m\u001b[0m\n",
      "\u001b[0;32m~/miniconda3/lib/python3.7/site-packages/urllib3/connectionpool.py\u001b[0m in \u001b[0;36murlopen\u001b[0;34m(self, method, url, body, headers, retries, redirect, assert_same_host, timeout, pool_timeout, release_conn, chunked, body_pos, **response_kw)\u001b[0m\n\u001b[1;32m    598\u001b[0m                                                   \u001b[0mtimeout\u001b[0m\u001b[0;34m=\u001b[0m\u001b[0mtimeout_obj\u001b[0m\u001b[0;34m,\u001b[0m\u001b[0;34m\u001b[0m\u001b[0;34m\u001b[0m\u001b[0m\n\u001b[1;32m    599\u001b[0m                                                   \u001b[0mbody\u001b[0m\u001b[0;34m=\u001b[0m\u001b[0mbody\u001b[0m\u001b[0;34m,\u001b[0m \u001b[0mheaders\u001b[0m\u001b[0;34m=\u001b[0m\u001b[0mheaders\u001b[0m\u001b[0;34m,\u001b[0m\u001b[0;34m\u001b[0m\u001b[0;34m\u001b[0m\u001b[0m\n\u001b[0;32m--> 600\u001b[0;31m                                                   chunked=chunked)\n\u001b[0m\u001b[1;32m    601\u001b[0m \u001b[0;34m\u001b[0m\u001b[0m\n\u001b[1;32m    602\u001b[0m             \u001b[0;31m# If we're going to release the connection in ``finally:``, then\u001b[0m\u001b[0;34m\u001b[0m\u001b[0;34m\u001b[0m\u001b[0;34m\u001b[0m\u001b[0m\n",
      "\u001b[0;32m~/miniconda3/lib/python3.7/site-packages/urllib3/connectionpool.py\u001b[0m in \u001b[0;36m_make_request\u001b[0;34m(self, conn, method, url, timeout, chunked, **httplib_request_kw)\u001b[0m\n\u001b[1;32m    378\u001b[0m             \u001b[0;32mexcept\u001b[0m \u001b[0mTypeError\u001b[0m\u001b[0;34m:\u001b[0m  \u001b[0;31m# Python 2.6 and older, Python 3\u001b[0m\u001b[0;34m\u001b[0m\u001b[0;34m\u001b[0m\u001b[0m\n\u001b[1;32m    379\u001b[0m                 \u001b[0;32mtry\u001b[0m\u001b[0;34m:\u001b[0m\u001b[0;34m\u001b[0m\u001b[0;34m\u001b[0m\u001b[0m\n\u001b[0;32m--> 380\u001b[0;31m                     \u001b[0mhttplib_response\u001b[0m \u001b[0;34m=\u001b[0m \u001b[0mconn\u001b[0m\u001b[0;34m.\u001b[0m\u001b[0mgetresponse\u001b[0m\u001b[0;34m(\u001b[0m\u001b[0;34m)\u001b[0m\u001b[0;34m\u001b[0m\u001b[0;34m\u001b[0m\u001b[0m\n\u001b[0m\u001b[1;32m    381\u001b[0m                 \u001b[0;32mexcept\u001b[0m \u001b[0mException\u001b[0m \u001b[0;32mas\u001b[0m \u001b[0me\u001b[0m\u001b[0;34m:\u001b[0m\u001b[0;34m\u001b[0m\u001b[0;34m\u001b[0m\u001b[0m\n\u001b[1;32m    382\u001b[0m                     \u001b[0;31m# Remove the TypeError from the exception chain in Python 3;\u001b[0m\u001b[0;34m\u001b[0m\u001b[0;34m\u001b[0m\u001b[0;34m\u001b[0m\u001b[0m\n",
      "\u001b[0;32m~/miniconda3/lib/python3.7/http/client.py\u001b[0m in \u001b[0;36mgetresponse\u001b[0;34m(self)\u001b[0m\n\u001b[1;32m   1319\u001b[0m         \u001b[0;32mtry\u001b[0m\u001b[0;34m:\u001b[0m\u001b[0;34m\u001b[0m\u001b[0;34m\u001b[0m\u001b[0m\n\u001b[1;32m   1320\u001b[0m             \u001b[0;32mtry\u001b[0m\u001b[0;34m:\u001b[0m\u001b[0;34m\u001b[0m\u001b[0;34m\u001b[0m\u001b[0m\n\u001b[0;32m-> 1321\u001b[0;31m                 \u001b[0mresponse\u001b[0m\u001b[0;34m.\u001b[0m\u001b[0mbegin\u001b[0m\u001b[0;34m(\u001b[0m\u001b[0;34m)\u001b[0m\u001b[0;34m\u001b[0m\u001b[0;34m\u001b[0m\u001b[0m\n\u001b[0m\u001b[1;32m   1322\u001b[0m             \u001b[0;32mexcept\u001b[0m \u001b[0mConnectionError\u001b[0m\u001b[0;34m:\u001b[0m\u001b[0;34m\u001b[0m\u001b[0;34m\u001b[0m\u001b[0m\n\u001b[1;32m   1323\u001b[0m                 \u001b[0mself\u001b[0m\u001b[0;34m.\u001b[0m\u001b[0mclose\u001b[0m\u001b[0;34m(\u001b[0m\u001b[0;34m)\u001b[0m\u001b[0;34m\u001b[0m\u001b[0;34m\u001b[0m\u001b[0m\n",
      "\u001b[0;32m~/miniconda3/lib/python3.7/http/client.py\u001b[0m in \u001b[0;36mbegin\u001b[0;34m(self)\u001b[0m\n\u001b[1;32m    294\u001b[0m         \u001b[0;31m# read until we get a non-100 response\u001b[0m\u001b[0;34m\u001b[0m\u001b[0;34m\u001b[0m\u001b[0;34m\u001b[0m\u001b[0m\n\u001b[1;32m    295\u001b[0m         \u001b[0;32mwhile\u001b[0m \u001b[0;32mTrue\u001b[0m\u001b[0;34m:\u001b[0m\u001b[0;34m\u001b[0m\u001b[0;34m\u001b[0m\u001b[0m\n\u001b[0;32m--> 296\u001b[0;31m             \u001b[0mversion\u001b[0m\u001b[0;34m,\u001b[0m \u001b[0mstatus\u001b[0m\u001b[0;34m,\u001b[0m \u001b[0mreason\u001b[0m \u001b[0;34m=\u001b[0m \u001b[0mself\u001b[0m\u001b[0;34m.\u001b[0m\u001b[0m_read_status\u001b[0m\u001b[0;34m(\u001b[0m\u001b[0;34m)\u001b[0m\u001b[0;34m\u001b[0m\u001b[0;34m\u001b[0m\u001b[0m\n\u001b[0m\u001b[1;32m    297\u001b[0m             \u001b[0;32mif\u001b[0m \u001b[0mstatus\u001b[0m \u001b[0;34m!=\u001b[0m \u001b[0mCONTINUE\u001b[0m\u001b[0;34m:\u001b[0m\u001b[0;34m\u001b[0m\u001b[0;34m\u001b[0m\u001b[0m\n\u001b[1;32m    298\u001b[0m                 \u001b[0;32mbreak\u001b[0m\u001b[0;34m\u001b[0m\u001b[0;34m\u001b[0m\u001b[0m\n",
      "\u001b[0;32m~/miniconda3/lib/python3.7/http/client.py\u001b[0m in \u001b[0;36m_read_status\u001b[0;34m(self)\u001b[0m\n\u001b[1;32m    255\u001b[0m \u001b[0;34m\u001b[0m\u001b[0m\n\u001b[1;32m    256\u001b[0m     \u001b[0;32mdef\u001b[0m \u001b[0m_read_status\u001b[0m\u001b[0;34m(\u001b[0m\u001b[0mself\u001b[0m\u001b[0;34m)\u001b[0m\u001b[0;34m:\u001b[0m\u001b[0;34m\u001b[0m\u001b[0;34m\u001b[0m\u001b[0m\n\u001b[0;32m--> 257\u001b[0;31m         \u001b[0mline\u001b[0m \u001b[0;34m=\u001b[0m \u001b[0mstr\u001b[0m\u001b[0;34m(\u001b[0m\u001b[0mself\u001b[0m\u001b[0;34m.\u001b[0m\u001b[0mfp\u001b[0m\u001b[0;34m.\u001b[0m\u001b[0mreadline\u001b[0m\u001b[0;34m(\u001b[0m\u001b[0m_MAXLINE\u001b[0m \u001b[0;34m+\u001b[0m \u001b[0;36m1\u001b[0m\u001b[0;34m)\u001b[0m\u001b[0;34m,\u001b[0m \u001b[0;34m\"iso-8859-1\"\u001b[0m\u001b[0;34m)\u001b[0m\u001b[0;34m\u001b[0m\u001b[0;34m\u001b[0m\u001b[0m\n\u001b[0m\u001b[1;32m    258\u001b[0m         \u001b[0;32mif\u001b[0m \u001b[0mlen\u001b[0m\u001b[0;34m(\u001b[0m\u001b[0mline\u001b[0m\u001b[0;34m)\u001b[0m \u001b[0;34m>\u001b[0m \u001b[0m_MAXLINE\u001b[0m\u001b[0;34m:\u001b[0m\u001b[0;34m\u001b[0m\u001b[0;34m\u001b[0m\u001b[0m\n\u001b[1;32m    259\u001b[0m             \u001b[0;32mraise\u001b[0m \u001b[0mLineTooLong\u001b[0m\u001b[0;34m(\u001b[0m\u001b[0;34m\"status line\"\u001b[0m\u001b[0;34m)\u001b[0m\u001b[0;34m\u001b[0m\u001b[0;34m\u001b[0m\u001b[0m\n",
      "\u001b[0;32m~/miniconda3/lib/python3.7/socket.py\u001b[0m in \u001b[0;36mreadinto\u001b[0;34m(self, b)\u001b[0m\n\u001b[1;32m    587\u001b[0m         \u001b[0;32mwhile\u001b[0m \u001b[0;32mTrue\u001b[0m\u001b[0;34m:\u001b[0m\u001b[0;34m\u001b[0m\u001b[0;34m\u001b[0m\u001b[0m\n\u001b[1;32m    588\u001b[0m             \u001b[0;32mtry\u001b[0m\u001b[0;34m:\u001b[0m\u001b[0;34m\u001b[0m\u001b[0;34m\u001b[0m\u001b[0m\n\u001b[0;32m--> 589\u001b[0;31m                 \u001b[0;32mreturn\u001b[0m \u001b[0mself\u001b[0m\u001b[0;34m.\u001b[0m\u001b[0m_sock\u001b[0m\u001b[0;34m.\u001b[0m\u001b[0mrecv_into\u001b[0m\u001b[0;34m(\u001b[0m\u001b[0mb\u001b[0m\u001b[0;34m)\u001b[0m\u001b[0;34m\u001b[0m\u001b[0;34m\u001b[0m\u001b[0m\n\u001b[0m\u001b[1;32m    590\u001b[0m             \u001b[0;32mexcept\u001b[0m \u001b[0mtimeout\u001b[0m\u001b[0;34m:\u001b[0m\u001b[0;34m\u001b[0m\u001b[0;34m\u001b[0m\u001b[0m\n\u001b[1;32m    591\u001b[0m                 \u001b[0mself\u001b[0m\u001b[0;34m.\u001b[0m\u001b[0m_timeout_occurred\u001b[0m \u001b[0;34m=\u001b[0m \u001b[0;32mTrue\u001b[0m\u001b[0;34m\u001b[0m\u001b[0;34m\u001b[0m\u001b[0m\n",
      "\u001b[0;32m~/miniconda3/lib/python3.7/ssl.py\u001b[0m in \u001b[0;36mrecv_into\u001b[0;34m(self, buffer, nbytes, flags)\u001b[0m\n\u001b[1;32m   1050\u001b[0m                   \u001b[0;34m\"non-zero flags not allowed in calls to recv_into() on %s\"\u001b[0m \u001b[0;34m%\u001b[0m\u001b[0;34m\u001b[0m\u001b[0;34m\u001b[0m\u001b[0m\n\u001b[1;32m   1051\u001b[0m                   self.__class__)\n\u001b[0;32m-> 1052\u001b[0;31m             \u001b[0;32mreturn\u001b[0m \u001b[0mself\u001b[0m\u001b[0;34m.\u001b[0m\u001b[0mread\u001b[0m\u001b[0;34m(\u001b[0m\u001b[0mnbytes\u001b[0m\u001b[0;34m,\u001b[0m \u001b[0mbuffer\u001b[0m\u001b[0;34m)\u001b[0m\u001b[0;34m\u001b[0m\u001b[0;34m\u001b[0m\u001b[0m\n\u001b[0m\u001b[1;32m   1053\u001b[0m         \u001b[0;32melse\u001b[0m\u001b[0;34m:\u001b[0m\u001b[0;34m\u001b[0m\u001b[0;34m\u001b[0m\u001b[0m\n\u001b[1;32m   1054\u001b[0m             \u001b[0;32mreturn\u001b[0m \u001b[0msuper\u001b[0m\u001b[0;34m(\u001b[0m\u001b[0;34m)\u001b[0m\u001b[0;34m.\u001b[0m\u001b[0mrecv_into\u001b[0m\u001b[0;34m(\u001b[0m\u001b[0mbuffer\u001b[0m\u001b[0;34m,\u001b[0m \u001b[0mnbytes\u001b[0m\u001b[0;34m,\u001b[0m \u001b[0mflags\u001b[0m\u001b[0;34m)\u001b[0m\u001b[0;34m\u001b[0m\u001b[0;34m\u001b[0m\u001b[0m\n",
      "\u001b[0;32m~/miniconda3/lib/python3.7/ssl.py\u001b[0m in \u001b[0;36mread\u001b[0;34m(self, len, buffer)\u001b[0m\n\u001b[1;32m    909\u001b[0m         \u001b[0;32mtry\u001b[0m\u001b[0;34m:\u001b[0m\u001b[0;34m\u001b[0m\u001b[0;34m\u001b[0m\u001b[0m\n\u001b[1;32m    910\u001b[0m             \u001b[0;32mif\u001b[0m \u001b[0mbuffer\u001b[0m \u001b[0;32mis\u001b[0m \u001b[0;32mnot\u001b[0m \u001b[0;32mNone\u001b[0m\u001b[0;34m:\u001b[0m\u001b[0;34m\u001b[0m\u001b[0;34m\u001b[0m\u001b[0m\n\u001b[0;32m--> 911\u001b[0;31m                 \u001b[0;32mreturn\u001b[0m \u001b[0mself\u001b[0m\u001b[0;34m.\u001b[0m\u001b[0m_sslobj\u001b[0m\u001b[0;34m.\u001b[0m\u001b[0mread\u001b[0m\u001b[0;34m(\u001b[0m\u001b[0mlen\u001b[0m\u001b[0;34m,\u001b[0m \u001b[0mbuffer\u001b[0m\u001b[0;34m)\u001b[0m\u001b[0;34m\u001b[0m\u001b[0;34m\u001b[0m\u001b[0m\n\u001b[0m\u001b[1;32m    912\u001b[0m             \u001b[0;32melse\u001b[0m\u001b[0;34m:\u001b[0m\u001b[0;34m\u001b[0m\u001b[0;34m\u001b[0m\u001b[0m\n\u001b[1;32m    913\u001b[0m                 \u001b[0;32mreturn\u001b[0m \u001b[0mself\u001b[0m\u001b[0;34m.\u001b[0m\u001b[0m_sslobj\u001b[0m\u001b[0;34m.\u001b[0m\u001b[0mread\u001b[0m\u001b[0;34m(\u001b[0m\u001b[0mlen\u001b[0m\u001b[0;34m)\u001b[0m\u001b[0;34m\u001b[0m\u001b[0;34m\u001b[0m\u001b[0m\n",
      "\u001b[0;31mKeyboardInterrupt\u001b[0m: "
     ]
    }
   ],
   "source": [
    "mm.upload_survey_to_qualtrics()"
   ]
  },
  {
   "cell_type": "code",
   "execution_count": 6,
   "id": "coral-ecuador",
   "metadata": {},
   "outputs": [
    {
     "name": "stdout",
     "output_type": "stream",
     "text": [
      "\tdone: \tcoarse001\tcoarse002\tcoarse003\tcoarse004\tcoarse005\tcoarse006\tcoarse007\tcoarse008\tcoarse009\tcoarse010\tcoarse011\tcoarse012\tfine001\tfine002\tfine003\tfine004\tfine005\tfine006\tfine007\tfine008\tfine009\tfine010\tfine011\tfine012\tfine013\tfine014\tfine015\tfine016\tfine017\tfine018\tfine019\tfine020\tfine021\tfine022\tfine023\tfine024\tfine025\tfine026\tfine027\tfine028\tfine029\tfine030\tfine031\tfine032\tfine033\n",
      "\n",
      "\tnot done: \n",
      "\n",
      "\tdone: \tcoarse001\tcoarse002\tcoarse003\tcoarse004\tcoarse005\tcoarse006\tcoarse007\tcoarse008\tcoarse009\tcoarse010\tcoarse011\tcoarse012\tfine001\tfine002\tfine003\tfine004\tfine005\tfine006\tfine007\tfine008\tfine009\tfine010\tfine011\tfine012\tfine013\tfine014\tfine015\tfine016\tfine017\tfine018\tfine019\tfine020\tfine021\tfine022\tfine023\tfine024\tfine025\tfine026\tfine027\tfine028\tfine029\tfine030\tfine031\tfine032\tfine033\n",
      "\n",
      "\tnot done: \n",
      "\n"
     ]
    }
   ],
   "source": [
    "mm.check_catch_patch_ratings()"
   ]
  },
  {
   "cell_type": "code",
   "execution_count": 7,
   "id": "interim-partition",
   "metadata": {},
   "outputs": [
    {
     "name": "stderr",
     "output_type": "stream",
     "text": [
      "Processed: 180_dog: 100%|██████████| 33/33 [04:30<00:00,  8.19s/it]            \n"
     ]
    }
   ],
   "source": [
    "mm.process_patch_ratings()"
   ]
  },
  {
   "cell_type": "code",
   "execution_count": 8,
   "id": "radical-burlington",
   "metadata": {},
   "outputs": [
    {
     "name": "stderr",
     "output_type": "stream",
     "text": [
      "Building meaning map for 180_disco_ball.pkl:   3%|▎         | 1/33 [00:18<09:59, 18.72s/it]/Users/supadhy6/miniconda3/lib/python3.7/site-packages/matplotlib/figure.py:98: MatplotlibDeprecationWarning: \n",
      "Adding an axes using the same arguments as a previous axes currently reuses the earlier instance.  In a future version, a new instance will always be created and returned.  Meanwhile, this warning can be suppressed, and the future behavior ensured, by passing a unique label to each axes instance.\n",
      "  \"Adding an axes using the same arguments as a previous axes \"\n",
      "Building meaning map for 180_airport.pkl: 100%|██████████| 33/33 [10:42<00:00, 19.47s/it]        \n"
     ]
    },
    {
     "data": {
      "image/png": "[encoded data removed]",
      "text/plain": [
       "<Figure size 432x288 with 35 Axes>"
      ]
     },
     "metadata": {
      "needs_background": "light"
     },
     "output_type": "display_data"
    }
   ],
   "source": [
    "mm.build_meaning_map()"
   ]
  },
  {
   "cell_type": "code",
   "execution_count": 5,
   "id": "organized-conversion",
   "metadata": {},
   "outputs": [],
   "source": []
  },
  {
   "cell_type": "code",
   "execution_count": 18,
   "id": "intimate-indie",
   "metadata": {},
   "outputs": [
    {
     "data": {
      "text/plain": [
       "'/Volumes/Share/main/projects/SceneMemory01/data/meaning/rating/mat'"
      ]
     },
     "execution_count": 18,
     "metadata": {},
     "output_type": "execute_result"
    }
   ],
   "source": []
  },
  {
   "cell_type": "code",
   "execution_count": 24,
   "id": "expected-patent",
   "metadata": {},
   "outputs": [],
   "source": []
  },
  {
   "cell_type": "code",
   "execution_count": 25,
   "id": "guilty-engineering",
   "metadata": {},
   "outputs": [
    {
     "data": {
      "text/plain": [
       "{'__header__': b'MATLAB 5.0 MAT-file, Platform: PCWIN64, Created on: Fri Jun 21 11:29:57 2019',\n",
       " '__version__': '1.0',\n",
       " '__globals__': [],\n",
       " 'smooth_meaning': array([[1.16666667, 1.16666667, 1.16666667, ..., 1.5       , 1.5       ,\n",
       "         1.5       ],\n",
       "        [1.16666667, 1.16666667, 1.16666667, ..., 1.5       , 1.5       ,\n",
       "         1.5       ],\n",
       "        [1.16666667, 1.16666667, 1.16666667, ..., 1.5       , 1.5       ,\n",
       "         1.5       ],\n",
       "        ...,\n",
       "        [1.16666667, 1.16666667, 1.16666667, ..., 1.16666667, 1.16666667,\n",
       "         1.16666667],\n",
       "        [1.16666667, 1.16666667, 1.16666667, ..., 1.16666667, 1.16666667,\n",
       "         1.16666667],\n",
       "        [1.16666667, 1.16666667, 1.16666667, ..., 1.16666667, 1.16666667,\n",
       "         1.16666667]])}"
      ]
     },
     "execution_count": 25,
     "metadata": {},
     "output_type": "execute_result"
    }
   ],
   "source": []
  },
  {
   "cell_type": "code",
   "execution_count": 26,
   "id": "floppy-trace",
   "metadata": {},
   "outputs": [
    {
     "data": {
      "text/plain": [
       "(768, 1024)"
      ]
     },
     "execution_count": 26,
     "metadata": {},
     "output_type": "execute_result"
    }
   ],
   "source": []
  },
  {
   "cell_type": "code",
   "execution_count": 13,
   "id": "impressive-offense",
   "metadata": {},
   "outputs": [],
   "source": []
  },
  {
   "cell_type": "code",
   "execution_count": 14,
   "id": "printable-investigation",
   "metadata": {},
   "outputs": [],
   "source": []
  },
  {
   "cell_type": "code",
   "execution_count": 15,
   "id": "loose-kingston",
   "metadata": {},
   "outputs": [],
   "source": []
  },
  {
   "cell_type": "code",
   "execution_count": 27,
   "id": "straight-riverside",
   "metadata": {},
   "outputs": [
    {
     "name": "stderr",
     "output_type": "stream",
     "text": [
      "\r",
      "  0%|          | 0/188 [00:00<?, ?it/s]"
     ]
    }
   ],
   "source": []
  },
  {
   "cell_type": "code",
   "execution_count": 28,
   "id": "educational-handy",
   "metadata": {},
   "outputs": [
    {
     "name": "stderr",
     "output_type": "stream",
     "text": [
      "Building meaning map for distractor_garden.mat: 100%|██████████| 188/188 [02:23<00:00,  1.31it/s]          \n"
     ]
    }
   ],
   "source": []
  },
  {
   "cell_type": "code",
   "execution_count": null,
   "id": "vocational-december",
   "metadata": {},
   "outputs": [],
   "source": []
  }
 ],
 "metadata": {
  "kernelspec": {
   "display_name": "Python 3",
   "language": "python",
   "name": "python3"
  },
  "language_info": {
   "codemirror_mode": {
    "name": "ipython",
    "version": 3
   },
   "file_extension": ".py",
   "mimetype": "text/x-python",
   "name": "python",
   "nbconvert_exporter": "python",
   "pygments_lexer": "ipython3",
   "version": "3.7.1"
  }
 },
 "nbformat": 4,
 "nbformat_minor": 5
}
